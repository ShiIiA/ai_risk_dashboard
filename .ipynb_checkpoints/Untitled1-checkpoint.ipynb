{
 "cells": [
  {
   "cell_type": "code",
   "execution_count": null,
   "id": "5e80ada7-cdcf-44bd-850d-852b9516174f",
   "metadata": {},
   "outputs": [],
   "source": []
  }
 ],
 "metadata": {
  "kernelspec": {
   "display_name": "",
   "name": ""
  },
  "language_info": {
   "name": ""
  }
 },
 "nbformat": 4,
 "nbformat_minor": 5
}
